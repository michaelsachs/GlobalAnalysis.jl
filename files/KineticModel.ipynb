{
 "cells": [
  {
   "cell_type": "code",
   "execution_count": null,
   "metadata": {},
   "outputs": [],
   "source": [
    "using Catalyst, DifferentialEquations\n",
    "using BlackBoxOptim\n",
    "using CSV\n",
    "using DataFrames\n",
    "using DataStructures\n",
    "using Statistics\n",
    "using NaNStatistics\n",
    "using Plots\n",
    "using Latexify\n",
    "include(\"../src/IRFConvolution.jl\") \n",
    "include(\"../src/DataImport.jl\")\n",
    "include(\"../src/TypeDefinitions.jl\")\n",
    "include(\"../src/KineticModel.jl\") \n"
   ]
  },
  {
   "attachments": {},
   "cell_type": "markdown",
   "metadata": {},
   "source": [
    "## Define your kinetic model and parameter bounds\n",
    "*Only edit this cell*"
   ]
  },
  {
   "cell_type": "code",
   "execution_count": null,
   "metadata": {},
   "outputs": [],
   "source": [
    "# import data\n",
    "RealData = importData(\"/Users/jessicaflowers/Desktop/JULIA/data/Fe2O3/\"; miss=\"NaN\")\n",
    "# RealData = RealData[1]\n",
    "\n",
    "# define kinetic model\n",
    "rs = @reaction_network begin\n",
    "    k1, A --> 0\n",
    "    k2, 2B --> 0\n",
    "    k3, C --> 0\n",
    "end\n",
    "\n",
    "# odesys = convert(ODESystem, rs) # print the differential equations for this reaction system\n",
    "# latexify(rs) # print the reaction system\n",
    "\n",
    "# define bounds for the parameter optimization \n",
    "state_lower = [1.0e6, 8e4, 1.0e6] # A, B, C\n",
    "state_upper = [1.0e6, 8e6, 1.0e6] \n",
    "\n",
    "IRF_lower = [0.1, 0.01] # μ, σ\n",
    "IRF_upper = [0.2, 0.08]\n",
    "\n",
    "rate_const_lower = [0.001, 1e-7, 1e-8] # k1, k2, k3, ...\n",
    "rate_const_upper = [0.01, 1e-5, 1e-6]"
   ]
  },
  {
   "attachments": {},
   "cell_type": "markdown",
   "metadata": {},
   "source": [
    "### Pre-processing of the input csv file"
   ]
  },
  {
   "cell_type": "code",
   "execution_count": null,
   "metadata": {},
   "outputs": [],
   "source": [
    "# Extract wavelength range and time vector, wavelength range is the first column and time vector is the first row\n",
    "wavelength = RealData.x\n",
    "wavelength = vcat(wavelength...)\n",
    "time = RealData.y\n",
    "time = vcat(time...)\n",
    "Data = RealData.z\n",
    "Data = (vcat(Data...))\n",
    "Data = coalesce.(Data, NaN)\n",
    "\n",
    "\n",
    "# create bounds array\n",
    "lower = vcat(state_lower, IRF_lower, rate_const_lower)\n",
    "upper = vcat(state_upper, IRF_upper, rate_const_upper)\n",
    "\n",
    "bounds = Array{Tuple{Float64, Float64}}(undef,length(lower))\n",
    "for k in 1:length(lower)\n",
    "    bounds[k] = (lower[k], upper[k])\n",
    "end"
   ]
  },
  {
   "attachments": {},
   "cell_type": "markdown",
   "metadata": {},
   "source": [
    "### Run the optimization"
   ]
  },
  {
   "cell_type": "code",
   "execution_count": null,
   "metadata": {},
   "outputs": [],
   "source": [
    "OP = run_optim(Objective, bounds)"
   ]
  },
  {
   "attachments": {},
   "cell_type": "markdown",
   "metadata": {},
   "source": [
    "## Data processing and plotting"
   ]
  },
  {
   "cell_type": "code",
   "execution_count": null,
   "metadata": {},
   "outputs": [],
   "source": [
    "RecoveredParam = best_candidate(OP) # recover optimized parameter vector \n",
    "RecoveredData = GetData(RecoveredParam) # plug optimized parameters into GetData\n",
    "DataMatrix = RecoveredData[1] # data matrix\n",
    "RecoveredSpec = RecoveredData[2] # spectral signatures\n",
    "RecoveredKinetics = RecoveredData[3] # kinetic"
   ]
  },
  {
   "cell_type": "code",
   "execution_count": null,
   "metadata": {},
   "outputs": [],
   "source": [
    "# kinetics\n",
    "tpos = time.>0\n",
    "Plots.plot(time[tpos], RecoveredKinetics[1,:][tpos], xscale=:log10,\n",
    "     title=\"Recovered Kinetics\", xlabel=\"log(Time)\", legend=:topleft, ylabel=\"Population\",\n",
    "     linewidth = 2, xguidefontsize=10, yguidefontsize=10, label=\"A(t)\")\n",
    "Plots.plot!(time[tpos], RecoveredKinetics[2,:][tpos], xscale=:log10,\n",
    "     linewidth = 2, xguidefontsize=10, yguidefontsize=10, label=\"B(t)\")\n",
    "Plots.plot!(time[tpos], RecoveredKinetics[3,:][tpos], xscale=:log10,\n",
    "linewidth = 2, xguidefontsize=10, yguidefontsize=10, label=\"C(t)\")\n"
   ]
  },
  {
   "cell_type": "code",
   "execution_count": null,
   "metadata": {},
   "outputs": [],
   "source": [
    "# Spectral Signatures\n",
    "\n",
    "Plots.plot(wavelength, RecoveredSpec[:,1], title=\"Recovered Spectral Signatures\", xlabel=\"Wavelength\",\n",
    "linewidth = 2, xguidefontsize=10, yguidefontsize=10, label=\"A(t)\", ylabel=\"Δ Absorbance\" ) \n",
    "Plots.plot!(wavelength, RecoveredSpec[:,2], title=\"Recovered Spectral Signatures\", xlabel=\"Wavelength\",\n",
    "linewidth = 2, xguidefontsize=10, yguidefontsize=10, label=\"B(t)\" ) \n",
    "Plots.plot!(wavelength, RecoveredSpec[:,3], title=\"Recovered Spectral Signatures\", xlabel=\"Wavelength\",\n",
    "linewidth = 2, xguidefontsize=10, yguidefontsize=10, label=\"C(t)\" ) "
   ]
  },
  {
   "cell_type": "code",
   "execution_count": null,
   "metadata": {},
   "outputs": [],
   "source": [
    "# residual maps \n",
    "# Map = Objective(RecoveredParam; output=\"map\") # why does this not work anymore?\n",
    "# resMap(RecoveredParam)\n",
    "Map = heatmap((DataMatrix .- Data))\n",
    "residual_value = Objective(RecoveredParam)\n"
   ]
  },
  {
   "cell_type": "code",
   "execution_count": null,
   "metadata": {},
   "outputs": [],
   "source": [
    "# heatmap of real data\n",
    "real_heatmap = heatmap(time, wavelength, Data, xlabel=\"Time (ps)\", ylabel=\"Wavelength (nm)\", title=\"Experimental Data\", \n",
    "    colorbar_title=\"\\n\\nΔ Absorbance\", right_margin=15Plots.mm, left_margin=10Plots.mm,\n",
    "    xguidefontsize=10, yguidefontsize=10, c=:thermal)\n"
   ]
  },
  {
   "cell_type": "code",
   "execution_count": null,
   "metadata": {},
   "outputs": [],
   "source": [
    "# heatmap of recovered data\n",
    "optim_heatmap = heatmap(time, wavelength, DataMatrix, xlabel=\"Time\", ylabel=\"Wavelength\", \n",
    "    title=\"Recovered Data\" ,colorbar_title=\"\\n\\nΔ Absorbance\", right_margin=15Plots.mm, \n",
    "    left_margin=10Plots.mm, xguidefontsize=10, yguidefontsize=10, c=:thermal)\n"
   ]
  }
 ],
 "metadata": {
  "kernelspec": {
   "display_name": "Julia 1.9.1",
   "language": "julia",
   "name": "julia-1.9"
  },
  "language_info": {
   "file_extension": ".jl",
   "mimetype": "application/julia",
   "name": "julia",
   "version": "1.9.1"
  },
  "orig_nbformat": 4
 },
 "nbformat": 4,
 "nbformat_minor": 2
}
